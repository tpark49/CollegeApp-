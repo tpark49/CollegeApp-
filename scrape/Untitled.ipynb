{
 "cells": [
  {
   "cell_type": "code",
   "execution_count": 1,
   "id": "42ac6dce",
   "metadata": {},
   "outputs": [],
   "source": [
    "import pandas as pd "
   ]
  },
  {
   "cell_type": "code",
   "execution_count": 21,
   "id": "76193600",
   "metadata": {
    "scrolled": true
   },
   "outputs": [],
   "source": [
    "df = pd.read_csv(\"example_datafile.csv\")"
   ]
  },
  {
   "cell_type": "code",
   "execution_count": 23,
   "id": "2d0fa28d",
   "metadata": {},
   "outputs": [],
   "source": [
    "pd.set_option('display.max_columns', None)\n"
   ]
  },
  {
   "cell_type": "code",
   "execution_count": 31,
   "id": "8b39b6e4",
   "metadata": {},
   "outputs": [
    {
     "data": {
      "text/html": [
       "<div>\n",
       "<style scoped>\n",
       "    .dataframe tbody tr th:only-of-type {\n",
       "        vertical-align: middle;\n",
       "    }\n",
       "\n",
       "    .dataframe tbody tr th {\n",
       "        vertical-align: top;\n",
       "    }\n",
       "\n",
       "    .dataframe thead th {\n",
       "        text-align: right;\n",
       "    }\n",
       "</style>\n",
       "<table border=\"1\" class=\"dataframe\">\n",
       "  <thead>\n",
       "    <tr style=\"text-align: right;\">\n",
       "      <th></th>\n",
       "      <th>user_url</th>\n",
       "      <th>username</th>\n",
       "      <th>current_school</th>\n",
       "      <th>user_major</th>\n",
       "      <th>hometown</th>\n",
       "      <th>gender</th>\n",
       "      <th>ethnicity</th>\n",
       "      <th>English_FL</th>\n",
       "      <th>Admission</th>\n",
       "      <th>class_of</th>\n",
       "      <th>first_gen</th>\n",
       "      <th>accepted_schools</th>\n",
       "      <th>waitlisted_schools</th>\n",
       "      <th>rejected_schools</th>\n",
       "      <th>legacy</th>\n",
       "      <th>GPA_measure</th>\n",
       "      <th>GPA</th>\n",
       "      <th>rank</th>\n",
       "      <th>num_of_Essays</th>\n",
       "      <th>num_of_Scores</th>\n",
       "      <th>num_of_Advice</th>\n",
       "      <th>num_of_ECs</th>\n",
       "      <th>num_of_Sports</th>\n",
       "      <th>num_of_schools</th>\n",
       "      <th>SAT</th>\n",
       "      <th>ACT</th>\n",
       "    </tr>\n",
       "  </thead>\n",
       "  <tbody>\n",
       "    <tr>\n",
       "      <th>448</th>\n",
       "      <td>https://www.admitsee.com/profile-detail/260060</td>\n",
       "      <td>Rdozier3,</td>\n",
       "      <td>Penn State</td>\n",
       "      <td>B.A., Film and Video Studies</td>\n",
       "      <td>\\nDavidsonville, Maryland</td>\n",
       "      <td>Male</td>\n",
       "      <td>Black / African American</td>\n",
       "      <td>NaN</td>\n",
       "      <td>NaN</td>\n",
       "      <td>2019.0</td>\n",
       "      <td>No</td>\n",
       "      <td>Penn State</td>\n",
       "      <td>NaN</td>\n",
       "      <td>NaN</td>\n",
       "      <td>No</td>\n",
       "      <td>NaN</td>\n",
       "      <td>3.24\\nGPA</td>\n",
       "      <td>NaN</td>\n",
       "      <td>0\\nEssays</td>\n",
       "      <td>5\\nScores</td>\n",
       "      <td>0\\nAdvice</td>\n",
       "      <td>2\\nECs</td>\n",
       "      <td>0\\nSports</td>\n",
       "      <td>1\\nSchools</td>\n",
       "      <td>690\\nSAT</td>\n",
       "      <td>NaN</td>\n",
       "    </tr>\n",
       "  </tbody>\n",
       "</table>\n",
       "</div>"
      ],
      "text/plain": [
       "                                           user_url   username current_school  \\\n",
       "448  https://www.admitsee.com/profile-detail/260060  Rdozier3,     Penn State   \n",
       "\n",
       "                       user_major                   hometown gender  \\\n",
       "448  B.A., Film and Video Studies  \\nDavidsonville, Maryland   Male   \n",
       "\n",
       "                    ethnicity English_FL Admission  class_of first_gen  \\\n",
       "448  Black / African American        NaN       NaN    2019.0        No   \n",
       "\n",
       "    accepted_schools waitlisted_schools rejected_schools legacy  GPA_measure  \\\n",
       "448       Penn State                NaN              NaN     No          NaN   \n",
       "\n",
       "           GPA  rank num_of_Essays num_of_Scores num_of_Advice num_of_ECs  \\\n",
       "448  3.24\\nGPA   NaN     0\\nEssays     5\\nScores     0\\nAdvice     2\\nECs   \n",
       "\n",
       "    num_of_Sports num_of_schools       SAT  ACT  \n",
       "448     0\\nSports     1\\nSchools  690\\nSAT  NaN  "
      ]
     },
     "execution_count": 31,
     "metadata": {},
     "output_type": "execute_result"
    }
   ],
   "source": [
    "df[df[\"SAT\"] =='690\\nSAT']"
   ]
  },
  {
   "cell_type": "code",
   "execution_count": 33,
   "id": "2e5199ca",
   "metadata": {},
   "outputs": [
    {
     "data": {
      "text/plain": [
       "array(['1590\\nSAT', '1510\\nSAT', nan, '2200\\nSAT', '1560\\nSAT',\n",
       "       '1540\\nSAT', '1550\\nSAT', '1570\\nSAT', '1520\\nSAT', '1580\\nSAT',\n",
       "       '1530\\nSAT', '1480\\nSAT', '1600\\nSAT', '1470\\nSAT', '1500\\nSAT',\n",
       "       '1490\\nSAT', '1450\\nSAT', '1440\\nSAT', '1390\\nSAT', '1380\\nSAT',\n",
       "       '1460\\nSAT', '1430\\nSAT', '1410\\nSAT', '1300\\nSAT', '1299\\nSAT',\n",
       "       '1360\\nSAT', '1370\\nSAT', '1400\\nSAT', '600\\nSAT', '610\\nSAT',\n",
       "       '1350\\nSAT', '1270\\nSAT', '1120\\nSAT', '1090\\nSAT', '1420\\nSAT',\n",
       "       '1320\\nSAT', '222\\nSAT', '1330\\nSAT', '1340\\nSAT', '1260\\nSAT',\n",
       "       '1190\\nSAT', '1200\\nSAT', '1100\\nSAT', '1240\\nSAT', '1140\\nSAT',\n",
       "       '1290\\nSAT', '1210\\nSAT', '690\\nSAT', '1130\\nSAT', '1250\\nSAT',\n",
       "       '1230\\nSAT', '1160\\nSAT', '830\\nSAT', '1220\\nSAT', '860\\nSAT',\n",
       "       '2310\\nSAT', '2270\\nSAT', '34\\nSAT', '2300\\nSAT', '1150\\nSAT',\n",
       "       '2010\\nSAT', '1180\\nSAT', '1310\\nSAT', '1040\\nSAT', '700\\nSAT',\n",
       "       '1011\\nSAT', '2260\\nSAT', '35\\nSAT', '1920\\nSAT', '1770\\nSAT',\n",
       "       '1820\\nSAT'], dtype=object)"
      ]
     },
     "execution_count": 33,
     "metadata": {},
     "output_type": "execute_result"
    }
   ],
   "source": [
    "df[\"SAT\"].unique()"
   ]
  }
 ],
 "metadata": {
  "kernelspec": {
   "display_name": "Python 3",
   "language": "python",
   "name": "python3"
  },
  "language_info": {
   "codemirror_mode": {
    "name": "ipython",
    "version": 3
   },
   "file_extension": ".py",
   "mimetype": "text/x-python",
   "name": "python",
   "nbconvert_exporter": "python",
   "pygments_lexer": "ipython3",
   "version": "3.8.8"
  }
 },
 "nbformat": 4,
 "nbformat_minor": 5
}
